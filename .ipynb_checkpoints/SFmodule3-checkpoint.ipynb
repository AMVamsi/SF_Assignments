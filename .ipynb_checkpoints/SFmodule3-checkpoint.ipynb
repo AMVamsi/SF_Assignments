{
 "cells": [
  {
   "cell_type": "markdown",
   "metadata": {},
   "source": [
    "# Module 3\n",
    "Scope: Algorithmic Thinking, Programming"
   ]
  },
  {
   "cell_type": "markdown",
   "metadata": {},
   "source": [
    "# Burger Mania\n",
    "\n",
    "Imagine that you are a restaurant's cashier and are trying to keep records for analysing profits.\n",
    "\n",
    "Your restaurant sells 7 different items:\n",
    "    1. Burgers - $4.25\n",
    "    2. Nuggets - $2.50\n",
    "    3. French Fries - $2.00\n",
    "    4. Small Drink - $1.25\n",
    "    5. Medium Drink - $1.50\n",
    "    6. Large Drink - $1.75\n",
    "    7. Salad - $3.75\n",
    "\n",
    "Create a program to randomly generate the orders of each customer as a string of numbers\n",
    "(corresponding to the item) and calculate the cost of the order. For example, if the generated\n",
    "string is 5712335, the program should understand that the customer has ordered 1 burger, 1 \n",
    "portion of nuggets, 2 portions of fries, 2 medium drinks and 1 salad. It should then compute the\n",
    "cost ($17.50). The final cost is calculated after considering discounts for combo offers and\n",
    "adding 18% GST.\n",
    "\n",
    "The combo offers are:\n",
    "A) 1 Burger + 1 Portion of Fries + 1 Drink -> 20% discount\n",
    "B) 1 Burger + 1 Portion of Nuggets + 1 Salad + 1 Drink -> 35% discount\n",
    "\n",
    "The final cost of the 5712335 order is $13.4225. The profit gained each day has to be recorded for\n",
    "30 days and plotted for analysis.\n",
    "\n",
    "Note:\n",
    "    - There will be at least 20 customers and not more than 50 customers per day. Each customer\n",
    "      orders at least 3 items and not more than 7 items.\n",
    "    - If there is a possibility of availing multiple combo offers in an order, the program\n",
    "      should select the offer with maximum discount.\n"
   ]
  },
  {
   "cell_type": "code",
   "execution_count": 2,
   "metadata": {},
   "outputs": [
    {
     "name": "stdout",
     "output_type": "stream",
     "text": [
      "[359.0, 380.5, 305.0, 193.75, 415.35, 389.25, 366.85, 419.7, 331.25, 374.5, 384.9, 281.45, 257.85, 226.55, 281.6, 314.15, 418.9, 313.15, 460.75, 313.55, 228.3, 385.85, 311.5, 328.4, 202.45, 351.0, 405.2, 333.3, 347.25, 342.3]\n"
     ]
    },
    {
     "data": {
      "text/plain": [
       "[<matplotlib.lines.Line2D at 0xc2c3ad0>]"
      ]
     },
     "execution_count": 2,
     "metadata": {},
     "output_type": "execute_result"
    },
    {
     "data": {
      "image/png": "[encoded data removed]",
      "text/plain": [
       "<Figure size 432x288 with 1 Axes>"
      ]
     },
     "metadata": {
      "needs_background": "light"
     },
     "output_type": "display_data"
    }
   ],
   "source": [
    "def rate(l):\n",
    "    d={1:['burgers',4.25],2:['nuggets',2.50],3:['fries',2.00],4:['small drink',1.25],5:['medium drink',1.50],6:['large drink',1.75],7:['salad',3.75]}\n",
    "    s=0\n",
    "    dis=0\n",
    "    if 1 in l2 and 3 in l2 and((4 in l2) or (5 in l2) or(6 in l2)):\n",
    "        dis=0.2\n",
    "    elif 1 in l2 and 3 in l2 and((4 in l2) or (5 in l2) or(6 in l2)):\n",
    "        dis=0.35    \n",
    "    for i in l:\n",
    "        s+=d[i][1]\n",
    "    s=s-(s*dis)\n",
    "    #print(s,end=\"\\n\")\n",
    "    return s\n",
    "import random\n",
    "import matplotlib.pyplot as plt\n",
    "c=[]\n",
    "for k in range(30):\n",
    "    n=int(random.randrange(20,50))\n",
    "    l1=[]\n",
    "    for i in range(n):\n",
    "        m=int(random.randrange(3,7))\n",
    "        l2=[]\n",
    "        for j in range(m):\n",
    "            l2+=[int(random.randrange(1,7))]\n",
    "        l1+=[l2]\n",
    "    #print(l1,end=\"\\n\\n\")\n",
    "    s=0\n",
    "    for l2 in l1:\n",
    "       # print(l2,end=\"\\t\")\n",
    "        s+=rate(l2)\n",
    "\n",
    "    c+=[float(round(s,2))]\n",
    "print(c)\n",
    "plt.plot(c)\n",
    "\n"
   ]
  },
  {
   "cell_type": "code",
   "execution_count": null,
   "metadata": {},
   "outputs": [],
   "source": []
  }
 ],
 "metadata": {
  "kernelspec": {
   "display_name": "Python 3",
   "language": "python",
   "name": "python3"
  },
  "language_info": {
   "codemirror_mode": {
    "name": "ipython",
    "version": 3
   },
   "file_extension": ".py",
   "mimetype": "text/x-python",
   "name": "python",
   "nbconvert_exporter": "python",
   "pygments_lexer": "ipython3",
   "version": "3.8.3"
  }
 },
 "nbformat": 4,
 "nbformat_minor": 2
}
