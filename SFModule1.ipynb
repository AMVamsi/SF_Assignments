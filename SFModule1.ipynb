{
 "cells": [
  {
   "cell_type": "code",
   "execution_count": 1,
   "metadata": {},
   "outputs": [],
   "source": [
    "def num_pattern(n):\n",
    "    for i in range(1,int(n)+1):\n",
    "        for j in range(1, i+1):\n",
    "            print(j, end=\" \") \n",
    "            \n",
    "        print(\"\\n\") \n",
    "  \n",
    "    "
   ]
  },
  {
   "cell_type": "code",
   "execution_count": 2,
   "metadata": {},
   "outputs": [
    {
     "name": "stdout",
     "output_type": "stream",
     "text": [
      "1 \n",
      "\n",
      "1 2 \n",
      "\n",
      "1 2 3 \n",
      "\n",
      "1 2 3 4 \n",
      "\n",
      "1 2 3 4 5 \n",
      "\n"
     ]
    }
   ],
   "source": [
    "num_pattern(5)"
   ]
  },
  {
   "cell_type": "code",
   "execution_count": 2,
   "metadata": {},
   "outputs": [],
   "source": [
    "def zero_pattern(n):\n",
    "\n",
    "    for i in range(0,n):\n",
    "        if(i<n/2):\n",
    "            for j in range(0,i+1):\n",
    "                if(i%2):\n",
    "                    print(\"0 \",end=\" \")\n",
    "                else:\n",
    "                    print(\"* \",end=\" \")\n",
    "        else:\n",
    "            #print(i)\n",
    "            for j in range(0,n-i):\n",
    "                if(i%2):\n",
    "                    print(\"0 \",end=\" \")\n",
    "                else:\n",
    "                    print(\"* \",end=\" \")\n",
    "        print(\"\\n\")"
   ]
  },
  {
   "cell_type": "code",
   "execution_count": 5,
   "metadata": {},
   "outputs": [
    {
     "name": "stdout",
     "output_type": "stream",
     "text": [
      "*  \n",
      "\n",
      "0  0  \n",
      "\n",
      "*  *  *  \n",
      "\n",
      "0  0  0  0  \n",
      "\n",
      "*  *  *  *  *  \n",
      "\n",
      "0  0  0  0  0  0  \n",
      "\n",
      "*  *  *  *  *  *  *  \n",
      "\n",
      "0  0  0  0  0  0  \n",
      "\n",
      "*  *  *  *  *  \n",
      "\n",
      "0  0  0  0  \n",
      "\n",
      "*  *  *  \n",
      "\n",
      "0  0  \n",
      "\n",
      "*  \n",
      "\n"
     ]
    }
   ],
   "source": [
    "zero_pattern(13)"
   ]
  },
  {
   "cell_type": "code",
   "execution_count": 7,
   "metadata": {},
   "outputs": [],
   "source": [
    "def star_pattern(m):\n",
    "    n=12\n",
    "    temp=m\n",
    "    for k in range(0,m//12+1):\n",
    "        if temp>12:\n",
    "            n=12\n",
    "            temp-=12\n",
    "        else:\n",
    "            n=temp\n",
    "        for i in range(0,n):\n",
    "            if(i<6):\n",
    "                for j in range(0,i+1):\n",
    "                    if(i%2):\n",
    "                        print(\"*\",end=\" \")\n",
    "                    else:\n",
    "                        print(\"*\",end=\" \")\n",
    "            else:\n",
    "                #print(i)\n",
    "                for j in range(0,n-i):\n",
    "                    if(i%2):\n",
    "                        print(\"*\",end=\" \")\n",
    "                    else:\n",
    "                        print(\"*\",end=\" \")\n",
    "            print(\"\\r\")"
   ]
  },
  {
   "cell_type": "code",
   "execution_count": 8,
   "metadata": {},
   "outputs": [
    {
     "name": "stdout",
     "output_type": "stream",
     "text": [
      "* \r\n",
      "* * \r\n",
      "* * * \r\n",
      "* * * * \r\n",
      "* * * * * \r\n",
      "* * * * * * \r\n",
      "* * * * * * \r\n",
      "* * * * * \r\n",
      "* * * * \r\n",
      "* * * \r\n",
      "* * \r\n",
      "* \r\n",
      "* \r\n",
      "* * \r\n",
      "* * * \r\n",
      "* * * * \r\n",
      "* * * * * \r\n",
      "* * * * * * \r\n",
      "* * * * * * \r\n",
      "* * * * * \r\n",
      "* * * * \r\n",
      "* * * \r\n",
      "* * \r\n",
      "* \r\n",
      "* \r\n",
      "* * \r\n",
      "* * * \r\n",
      "* * * * \r\n",
      "* * * * * \r\n",
      "* * * * * * \r\n",
      "* * * * * * \r\n",
      "* * * * * \r\n",
      "* * * * \r\n",
      "* * * \r\n",
      "* * \r\n",
      "* \r\n"
     ]
    }
   ],
   "source": [
    "star_pattern(24)"
   ]
  },
  {
   "cell_type": "code",
   "execution_count": 9,
   "metadata": {},
   "outputs": [],
   "source": [
    "def keys():\n",
    "    dictionary = {'ant': 2, 'dog': 12, 'duck': 20, 'hen': 11, 'other': 99}\n",
    "    keys = ['ant', 'cat', 'duck', 'hen', 'lion', 'zebra']\n",
    "    for str1 in keys:\n",
    "        if str1 in dictionary:\n",
    "            print(dictionary[str1],end=\" \")\n",
    "        else:\n",
    "            print(dictionary[\"other\"],end=\" \")"
   ]
  },
  {
   "cell_type": "code",
   "execution_count": 10,
   "metadata": {},
   "outputs": [
    {
     "name": "stdout",
     "output_type": "stream",
     "text": [
      "2 99 20 11 99 99 "
     ]
    }
   ],
   "source": [
    "keys()"
   ]
  },
  {
   "cell_type": "code",
   "execution_count": 12,
   "metadata": {},
   "outputs": [
    {
     "name": "stdout",
     "output_type": "stream",
     "text": [
      "0.307\n",
      "[0, 0, 0, 1, 1, 1, 1, 1, 0, 0]\n"
     ]
    }
   ],
   "source": [
    "data = [0.00, 0.12, 0.24, 0.36, 0.48, 0.52, 0.65, 0.50, 0.11, 0.09]\n",
    "mean=sum(data)/len(data)\n",
    "def test(x):\n",
    "    if(x>mean):\n",
    "        return 1\n",
    "    else:\n",
    "        return 0\n",
    "r=list(map(test,data ))\n",
    "print(mean)\n",
    "print(r)"
   ]
  },
  {
   "cell_type": "code",
   "execution_count": 13,
   "metadata": {},
   "outputs": [
    {
     "name": "stdout",
     "output_type": "stream",
     "text": [
      "enter the limit value100\n",
      "0\n",
      "1\n",
      "4\n",
      "9\n",
      "16\n",
      "25\n",
      "36\n",
      "49\n",
      "64\n",
      "81\n"
     ]
    }
   ],
   "source": [
    "import math\n",
    "n=int(input(\"enter the limit value\"))\n",
    "for i in range(n):\n",
    "    if int(math.sqrt(i))==(math.sqrt(i)):\n",
    "        print(i)"
   ]
  },
  {
   "cell_type": "code",
   "execution_count": null,
   "metadata": {},
   "outputs": [],
   "source": []
  }
 ],
 "metadata": {
  "kernelspec": {
   "display_name": "Python 3",
   "language": "python",
   "name": "python3"
  },
  "language_info": {
   "codemirror_mode": {
    "name": "ipython",
    "version": 3
   },
   "file_extension": ".py",
   "mimetype": "text/x-python",
   "name": "python",
   "nbconvert_exporter": "python",
   "pygments_lexer": "ipython3",
   "version": "3.7.3"
  }
 },
 "nbformat": 4,
 "nbformat_minor": 2
}
